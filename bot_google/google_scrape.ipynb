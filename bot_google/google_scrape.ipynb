{
 "cells": [
  {
   "cell_type": "code",
   "execution_count": 1,
   "metadata": {},
   "outputs": [],
   "source": [
    "#import selenium drivers\n",
    "from selenium import webdriver\n",
    "from selenium.webdriver.common.keys import Keys\n",
    "from webdriver_manager.chrome import ChromeDriverManager\n",
    "from selenium.webdriver.support.ui import Select\n",
    "from selenium.common.exceptions import NoSuchElementException   \n",
    "from selenium.webdriver.support.ui import WebDriverWait\n",
    "from selenium.webdriver.support import expected_conditions as EC\n",
    "from selenium.webdriver.common.by import By\n",
    "from selenium.common.exceptions import TimeoutException\n",
    "from selenium.common.exceptions import UnexpectedAlertPresentException\n",
    "from selenium.webdriver.chrome.options import Options\n",
    "\n",
    "#import helper libraries\n",
    "import time\n",
    "import urllib.request\n",
    "import shutil\n",
    "import os\n",
    "import pandas as pd\n",
    "\n",
    "#custom patch libraries\n",
    "import patch \n",
    "import requests\n",
    "from bs4 import BeautifulSoup"
   ]
  },
  {
   "cell_type": "code",
   "execution_count": null,
   "metadata": {},
   "outputs": [],
   "source": [
    "current_directory = os.getcwd()\n",
    "final_directory = os.path.join(current_directory, r'PDFs_container')\n",
    "if not os.path.exists(final_directory):\n",
    "    os.makedirs(final_directory)"
   ]
  },
  {
   "cell_type": "code",
   "execution_count": 146,
   "metadata": {},
   "outputs": [],
   "source": [
    "#import the file with names of companies"
   ]
  },
  {
   "cell_type": "code",
   "execution_count": 2,
   "metadata": {},
   "outputs": [],
   "source": [
    "df = pd.read_excel(\"ESG_report_70_companies_4_02.xlsx\")"
   ]
  },
  {
   "cell_type": "code",
   "execution_count": 3,
   "metadata": {},
   "outputs": [],
   "source": [
    "df_reduced = df.PARTNERNAME[0:69]"
   ]
  },
  {
   "cell_type": "code",
   "execution_count": 4,
   "metadata": {},
   "outputs": [
    {
     "data": {
      "text/plain": [
       "0                BÖWE SYSTEC Aktiengesellschaft i. I.\n",
       "1               STADA Arzneimittel Aktiengesellschaft\n",
       "2                                     flatexDEGIRO AG\n",
       "3                         Ence Energia y Celulosa S.A\n",
       "4                            Tauron Polska Energia SA\n",
       "                           ...                       \n",
       "64                      FIRST COMMERCIAL BANK LIMITED\n",
       "65                             DUBAI ISLAMIC BANK PLC\n",
       "66                      COMMERCIAL BANK OF CEYLON PLC\n",
       "67                             NORTHROP GRUMMAN CORP.\n",
       "68    SCIENCE APPLICATIONS INTERNATION        AL CORP\n",
       "Name: PARTNERNAME, Length: 69, dtype: object"
      ]
     },
     "execution_count": 4,
     "metadata": {},
     "output_type": "execute_result"
    }
   ],
   "source": [
    "df_reduced.head(70)"
   ]
  },
  {
   "cell_type": "code",
   "execution_count": 5,
   "metadata": {},
   "outputs": [
    {
     "name": "stderr",
     "output_type": "stream",
     "text": [
      "\n",
      "\n",
      "====== WebDriver manager ======\n",
      "Current google-chrome version is 98.0.4758\n",
      "Get LATEST chromedriver version for 98.0.4758 google-chrome\n",
      "There is no [win32] chromedriver for browser  in cache\n",
      "Trying to download new driver from https://chromedriver.storage.googleapis.com/98.0.4758.80/chromedriver_win32.zip\n",
      "Driver has been saved in cache [C:\\Users\\jv3matzoli\\.wdm\\drivers\\chromedriver\\win32\\98.0.4758.80]\n",
      "C:\\Users\\jv3matzoli\\AppData\\Local\\Continuum\\anaconda3\\lib\\site-packages\\ipykernel_launcher.py:6: DeprecationWarning: executable_path has been deprecated, please pass in a Service object\n",
      "  \n",
      "C:\\Users\\jv3matzoli\\AppData\\Local\\Continuum\\anaconda3\\lib\\site-packages\\ipykernel_launcher.py:6: DeprecationWarning: use options instead of chrome_options\n",
      "  \n",
      "C:\\Users\\jv3matzoli\\AppData\\Local\\Continuum\\anaconda3\\lib\\site-packages\\ipykernel_launcher.py:11: DeprecationWarning: find_element_by_* commands are deprecated. Please use find_element() instead\n",
      "  # This is added back by InteractiveShellApp.init_path()\n",
      "C:\\Users\\jv3matzoli\\AppData\\Local\\Continuum\\anaconda3\\lib\\site-packages\\ipykernel_launcher.py:25: DeprecationWarning: find_element_by_* commands are deprecated. Please use find_element() instead\n"
     ]
    },
    {
     "name": "stdout",
     "output_type": "stream",
     "text": [
      "https://promositalia.camcom.it/kdocs/1992024/amazon_in_depth_italian_21-10-2020.pdf\n"
     ]
    }
   ],
   "source": [
    "###UNA TANTUM\n",
    "###open Browser\n",
    "chrome_options = webdriver.ChromeOptions()\n",
    "prefs = {\"profile.default_content_setting_values.notifications\" : 2}\n",
    "chrome_options.add_experimental_option(\"prefs\",prefs)\n",
    "driver = webdriver.Chrome(ChromeDriverManager().install(), chrome_options=chrome_options)\n",
    "driver.get(\"http://www.google.com\")\n",
    "time.sleep(1.5)\n",
    "\n",
    "#click the search box\n",
    "l=driver.find_element_by_xpath(\"//*[@id='L2AGLb']/div\")\n",
    "l.click()\n",
    "\n",
    "#initiate the variables\n",
    "ricerca = \"amazon\"\n",
    "file_type = \"filetype:pdf\"\n",
    "TFN_sustainability = \"non financial statement\"\n",
    "\n",
    "search = WebDriverWait(driver, 10).until(EC.element_to_be_clickable((By.CSS_SELECTOR, \"input[name='q']\")))\n",
    "search.clear()\n",
    "search.send_keys(file_type,\" \", ricerca)\n",
    "\n",
    "time.sleep(2)\n",
    "\n",
    "driver.find_element_by_name(\"q\").send_keys(Keys.RETURN)\n",
    "\n",
    "#click the first result\n",
    "time.sleep(1.5)\n",
    "\n",
    "risultato = driver.find_element(By.XPATH, '(//h3)[1]/../../a').click()\n",
    "#risultato.click()\n",
    "\n",
    "time.sleep(1)\n",
    "current_url = driver.current_url\n",
    "print (current_url)\n",
    "\n",
    "response = requests.get(current_url)\n",
    "\n",
    "with open('PDFs_container/'+ ricerca, 'wb') as f:\n",
    "    f.write(response.content)\n",
    "\n",
    "driver.execute_script(\"window.history.go(-1)\")"
   ]
  },
  {
   "cell_type": "code",
   "execution_count": 6,
   "metadata": {},
   "outputs": [
    {
     "name": "stderr",
     "output_type": "stream",
     "text": [
      "C:\\Users\\jv3matzoli\\AppData\\Local\\Continuum\\anaconda3\\lib\\site-packages\\ipykernel_launcher.py:14: DeprecationWarning: find_element_by_* commands are deprecated. Please use find_element() instead\n",
      "  \n"
     ]
    },
    {
     "name": "stdout",
     "output_type": "stream",
     "text": [
      "https://www.dib.ae/docs/default-source/financial-reports/dib_fs_fy2020_e_16_02_2021.pdf?sfvrsn=9c9b67c1_4\n",
      "https://cdn.cse.lk/cmt/upload_report_file/369_1614941592096.pdf\n",
      "https://www.northropgrumman.com/wp-content/uploads/2020-Annual-Report-Northrop-Grumman.pdf\n"
     ]
    }
   ],
   "source": [
    "for i in df_reduced[65:]:\n",
    "    #initiate the variables\n",
    "    ricerca = str(i)\n",
    "    file_type = \"filetype:pdf\"\n",
    "    nfs = \"non-financial statement\"\n",
    "    time.sleep(1)\n",
    "    try:\n",
    "        search = WebDriverWait(driver, 10).until(EC.element_to_be_clickable((By.CSS_SELECTOR, \"input[name='q']\")))\n",
    "        search.clear()\n",
    "        search.send_keys(file_type,\" \", ricerca, \" \", nfs)\n",
    "\n",
    "        time.sleep(2)\n",
    "\n",
    "        driver.find_element_by_name(\"q\").send_keys(Keys.RETURN)\n",
    "\n",
    "        #click the first result\n",
    "        time.sleep(1.5)\n",
    "\n",
    "        risultato = driver.find_element(By.XPATH, '(//h3)[1]/../../a').click()\n",
    "        #risultato.click()\n",
    "\n",
    "        time.sleep(1)\n",
    "        current_url = driver.current_url\n",
    "        print (current_url)\n",
    "        try:\n",
    "            response = requests.get(current_url)\n",
    "            if response.status_code == 200:\n",
    "                with open('PDFs_container/'+ i, 'wb') as f:\n",
    "                    f.write(response.content)\n",
    "                    time.sleep(1)\n",
    "        except:\n",
    "            driver.execute_script(\"window.history.go(-1)\")\n",
    "            time.sleep(1)\n",
    "\n",
    "        driver.execute_script(\"window.history.go(-1)\")\n",
    "        time.sleep(1)\n",
    "    except:\n",
    "        driver.execute_script(\"window.history.go(-1)\")\n",
    "        time.sleep(1)"
   ]
  },
  {
   "cell_type": "code",
   "execution_count": 184,
   "metadata": {},
   "outputs": [
    {
     "data": {
      "text/plain": [
       "'One Bank Limited'"
      ]
     },
     "execution_count": 184,
     "metadata": {},
     "output_type": "execute_result"
    }
   ],
   "source": [
    "#if conditional fill up the excel with 0/1"
   ]
  }
 ],
 "metadata": {
  "kernelspec": {
   "display_name": "Python 3",
   "language": "python",
   "name": "python3"
  },
  "language_info": {
   "codemirror_mode": {
    "name": "ipython",
    "version": 3
   },
   "file_extension": ".py",
   "mimetype": "text/x-python",
   "name": "python",
   "nbconvert_exporter": "python",
   "pygments_lexer": "ipython3",
   "version": "3.7.4"
  }
 },
 "nbformat": 4,
 "nbformat_minor": 2
}
