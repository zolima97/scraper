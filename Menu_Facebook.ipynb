{
 "cells": [
  {
   "cell_type": "code",
   "execution_count": 1,
   "metadata": {},
   "outputs": [],
   "source": [
    "import ssl\n",
    "ssl._create_default_https_context = ssl._create_unverified_context\n",
    "import time\n",
    "from selenium import webdriver\n",
    "from selenium.webdriver.common.keys import Keys\n",
    "from selenium.webdriver.support import expected_conditions as EC\n",
    "from selenium.webdriver.common.by import By\n",
    "from selenium.webdriver.support.wait import WebDriverWait\n",
    "from webdriver_manager.chrome import ChromeDriverManager\n",
    "from selenium.webdriver.chrome.service import Service\n",
    "import time\n",
    "import os\n",
    "import wget\n",
    "import pandas as pd\n",
    "import numpy as np"
   ]
  },
  {
   "cell_type": "code",
   "execution_count": 87,
   "metadata": {},
   "outputs": [
    {
     "data": {
      "text/html": [
       "<div>\n",
       "<style scoped>\n",
       "    .dataframe tbody tr th:only-of-type {\n",
       "        vertical-align: middle;\n",
       "    }\n",
       "\n",
       "    .dataframe tbody tr th {\n",
       "        vertical-align: top;\n",
       "    }\n",
       "\n",
       "    .dataframe thead th {\n",
       "        text-align: right;\n",
       "    }\n",
       "</style>\n",
       "<table border=\"1\" class=\"dataframe\">\n",
       "  <thead>\n",
       "    <tr style=\"text-align: right;\">\n",
       "      <th></th>\n",
       "      <th>id</th>\n",
       "      <th>paginafb</th>\n",
       "    </tr>\n",
       "  </thead>\n",
       "  <tbody>\n",
       "    <tr>\n",
       "      <th>0</th>\n",
       "      <td>2128788</td>\n",
       "      <td>https://www.facebook.com/GondolierLondon/?page...</td>\n",
       "    </tr>\n",
       "    <tr>\n",
       "      <th>1</th>\n",
       "      <td>2128790</td>\n",
       "      <td>https://www.facebook.com/pages/category/Family...</td>\n",
       "    </tr>\n",
       "    <tr>\n",
       "      <th>2</th>\n",
       "      <td>2128792</td>\n",
       "      <td>https://www.facebook.com/pages/category/Americ...</td>\n",
       "    </tr>\n",
       "    <tr>\n",
       "      <th>3</th>\n",
       "      <td>2128794</td>\n",
       "      <td>https://facebook.com/pages/category/Tex-Mex-Re...</td>\n",
       "    </tr>\n",
       "    <tr>\n",
       "      <th>4</th>\n",
       "      <td>2128797</td>\n",
       "      <td>https://www.facebook.com/crackerbarrel.londonky/</td>\n",
       "    </tr>\n",
       "    <tr>\n",
       "      <th>5</th>\n",
       "      <td>2128801</td>\n",
       "      <td>https://facebook.com/pages/category/Restaurant...</td>\n",
       "    </tr>\n",
       "    <tr>\n",
       "      <th>6</th>\n",
       "      <td>2128802</td>\n",
       "      <td>https://facebook.com/LondonAutoTruckCenter/</td>\n",
       "    </tr>\n",
       "    <tr>\n",
       "      <th>7</th>\n",
       "      <td>2128804</td>\n",
       "      <td>https://facebook.com/FazolisLondonKY/</td>\n",
       "    </tr>\n",
       "    <tr>\n",
       "      <th>8</th>\n",
       "      <td>2128806</td>\n",
       "      <td>https://www.facebook.com/GoldenCorralLondonKY/</td>\n",
       "    </tr>\n",
       "    <tr>\n",
       "      <th>9</th>\n",
       "      <td>2128807</td>\n",
       "      <td>https://facebook.com/compadreslocallondonky/</td>\n",
       "    </tr>\n",
       "  </tbody>\n",
       "</table>\n",
       "</div>"
      ],
      "text/plain": [
       "        id                                           paginafb\n",
       "0  2128788  https://www.facebook.com/GondolierLondon/?page...\n",
       "1  2128790  https://www.facebook.com/pages/category/Family...\n",
       "2  2128792  https://www.facebook.com/pages/category/Americ...\n",
       "3  2128794  https://facebook.com/pages/category/Tex-Mex-Re...\n",
       "4  2128797   https://www.facebook.com/crackerbarrel.londonky/\n",
       "5  2128801  https://facebook.com/pages/category/Restaurant...\n",
       "6  2128802        https://facebook.com/LondonAutoTruckCenter/\n",
       "7  2128804              https://facebook.com/FazolisLondonKY/\n",
       "8  2128806     https://www.facebook.com/GoldenCorralLondonKY/\n",
       "9  2128807       https://facebook.com/compadreslocallondonky/"
      ]
     },
     "execution_count": 87,
     "metadata": {},
     "output_type": "execute_result"
    }
   ],
   "source": [
    "#importa lista locali FBi\n",
    "lista_locali = pd.read_csv(r\"query_result.csv\", sep=\",\")\n",
    "links=lista_locali[\"paginafb\"]\n",
    "type(links)\n",
    "links_ready=np.array(links)\n",
    "links_ready\n",
    "lista_locali.head(10)"
   ]
  },
  {
   "cell_type": "code",
   "execution_count": 6,
   "metadata": {},
   "outputs": [
    {
     "name": "stdout",
     "output_type": "stream",
     "text": [
      "GondolierLondon\n",
      "Family-Style-Restaurant\n",
      "American-Restaurant\n",
      "Tex-Mex-Restaurant\n",
      "crackerbarrel.londonky\n",
      "Restaurant\n",
      "LondonAutoTruckCenter\n",
      "FazolisLondonKY\n",
      "GoldenCorralLondonKY\n",
      "compadreslocallondonky\n"
     ]
    }
   ],
   "source": [
    "restaurant_folder =[]\n",
    "for i in links_ready[:10]:\n",
    "    i = i.replace(\"https://www.facebook.com\", \"\")\n",
    "    i = i.replace(\"https://facebook.com\", \"\")\n",
    "    i = i.replace(\"/pages/category\", \"\")\n",
    "    i = i.replace(\"/\", \"\",1)\n",
    "    #i = i.replace(\"/\")\n",
    "    i = i.split(\"/\", 1)\n",
    "    restaurant_name = i[:1]\n",
    "    restaurant_folder.append(restaurant_name)\n",
    "restaurant_folder = np.array(restaurant_folder)\n",
    "restaurant_folder = restaurant_folder.flatten()\n",
    "for i in restaurant_folder:\n",
    "    print(i)"
   ]
  },
  {
   "cell_type": "code",
   "execution_count": 174,
   "metadata": {},
   "outputs": [
    {
     "data": {
      "text/plain": [
       "'/Users/matteozoli/Desktop/SCRAPING/scrapemen'"
      ]
     },
     "execution_count": 174,
     "metadata": {},
     "output_type": "execute_result"
    }
   ],
   "source": [
    "#create folders for output\n",
    "#SCRAPED MENU\n",
    "path = os.getcwd()\n",
    "path = os.path.join(path, \"scrapemen\")\n",
    "os.mkdir(path)\n",
    "path"
   ]
  },
  {
   "cell_type": "code",
   "execution_count": 194,
   "metadata": {},
   "outputs": [
    {
     "name": "stderr",
     "output_type": "stream",
     "text": [
      "\n",
      "\n",
      "====== WebDriver manager ======\n",
      "Current google-chrome version is 97.0.4692\n",
      "Get LATEST chromedriver version for 97.0.4692 google-chrome\n",
      "Driver [/Users/matteozoli/.wdm/drivers/chromedriver/mac64/97.0.4692.71/chromedriver] found in cache\n",
      "/Library/Frameworks/Python.framework/Versions/3.7/lib/python3.7/site-packages/ipykernel_launcher.py:5: DeprecationWarning: executable_path has been deprecated, please pass in a Service object\n",
      "  \"\"\"\n",
      "/Library/Frameworks/Python.framework/Versions/3.7/lib/python3.7/site-packages/ipykernel_launcher.py:5: DeprecationWarning: use options instead of chrome_options\n",
      "  \"\"\"\n",
      "/Library/Frameworks/Python.framework/Versions/3.7/lib/python3.7/site-packages/ipykernel_launcher.py:9: DeprecationWarning: find_element_by_* commands are deprecated. Please use find_element() instead\n",
      "  if __name__ == '__main__':\n"
     ]
    }
   ],
   "source": [
    "chrome_options = webdriver.ChromeOptions()\n",
    "prefs = {\"profile.default_content_setting_values.notifications\" : 2}\n",
    "chrome_options.add_experimental_option(\"prefs\",prefs)\n",
    "\n",
    "driver = webdriver.Chrome(ChromeDriverManager().install(), chrome_options=chrome_options)\n",
    "driver.get(\"http://www.facebook.com\")\n",
    "\n",
    "time.sleep(1.5)\n",
    "l=driver.find_element_by_xpath(\"//*[@title='Allow All Cookies']\")\n",
    "l.click()\n",
    "\n",
    "#target username\n",
    "username = WebDriverWait(driver, 10).until(EC.element_to_be_clickable((By.CSS_SELECTOR, \"input[name='email']\")))\n",
    "password = WebDriverWait(driver, 10).until(EC.element_to_be_clickable((By.CSS_SELECTOR, \"input[name='pass']\")))\n",
    "\n",
    "#enter username and password\n",
    "username.clear()\n",
    "username.send_keys(\"rimorchiatorediasmatiche@live.it\")\n",
    "password.clear()\n",
    "password.send_keys(\"notterosa\")\n",
    "\n",
    "#target the login button and click it\n",
    "button = WebDriverWait(driver, 2).until(EC.element_to_be_clickable((By.CSS_SELECTOR, \"button[type='submit']\"))).click()\n",
    "\n",
    "#We are logged in!"
   ]
  },
  {
   "cell_type": "code",
   "execution_count": 195,
   "metadata": {
    "scrolled": true
   },
   "outputs": [
    {
     "name": "stderr",
     "output_type": "stream",
     "text": [
      "/Library/Frameworks/Python.framework/Versions/3.7/lib/python3.7/site-packages/ipykernel_launcher.py:16: DeprecationWarning: find_elements_by_* commands are deprecated. Please use find_elements() instead\n",
      "  app.launch_new_instance()\n"
     ]
    },
    {
     "name": "stdout",
     "output_type": "stream",
     "text": [
      "https://static.xx.fbcdn.net/rsrc.php/v3/yU/r/D2y-jJ2C_hO.png\n"
     ]
    },
    {
     "name": "stderr",
     "output_type": "stream",
     "text": [
      "/Library/Frameworks/Python.framework/Versions/3.7/lib/python3.7/site-packages/ipykernel_launcher.py:25: DeprecationWarning: find_elements_by_* commands are deprecated. Please use find_elements() instead\n"
     ]
    },
    {
     "name": "stdout",
     "output_type": "stream",
     "text": [
      "https://static.xx.fbcdn.net/rsrc.php/v3/y5/r/duk32h44Y31.png\n",
      "https://static.xx.fbcdn.net/rsrc.php/v3/y8/r/he-BkogidIc.png\n",
      "https://static.xx.fbcdn.net/rsrc.php/v3/yD/r/lVijPkTeN-r.png\n",
      "https://static.xx.fbcdn.net/rsrc.php/v3/yH/r/kyCAf2jbZvF.png\n",
      "https://static.xx.fbcdn.net/rsrc.php/v3/yu/r/eXC82ZeepQ7.png\n",
      "https://static.xx.fbcdn.net/rsrc.php/v3/yY/r/XxEsb0x8INQ.png\n",
      "https://scontent.fblq5-2.fna.fbcdn.net/v/t1.6435-1/p160x160/91276502_2956916831034144_5804765402827325440_n.jpg?_nc_cat=107&ccb=1-5&_nc_sid=7206a8&_nc_ohc=-KmSHv315mUAX-eldcG&_nc_ht=scontent.fblq5-2.fna&oh=00_AT-mIQDN64R6_Ra5lEKMbBQsRHXoc12MBWH836Xyt_PIcQ&oe=620D9005\n",
      "https://scontent.fblq5-1.fna.fbcdn.net/v/t15.5256-10/s280x280/272095762_286186453408696_7415873689917860802_n.jpg?_nc_cat=101&ccb=1-5&_nc_sid=ad6a45&_nc_ohc=fm4W8a1rP4QAX8gYOVc&_nc_ht=scontent.fblq5-1.fna&oh=00_AT99XAro0PhoLKv444k7hy4sBsmbQsj2E8YgJWGjSiw1EQ&oe=61EC603A\n",
      "https://scontent.fblq5-1.fna.fbcdn.net/v/t39.30808-1/cp0/p40x40/222301501_10223774590126131_5109359409947905431_n.jpg?_nc_cat=106&ccb=1-5&_nc_sid=7206a8&_nc_ohc=o_tEZYwhjmQAX9FeS5V&_nc_ht=scontent.fblq5-1.fna&oh=00_AT8M-g6Ou1ggWuxMIgumZWckpB4eulO_kfcoF7LbZrDVaQ&oe=61EB4A60\n",
      "https://scontent.fblq5-2.fna.fbcdn.net/v/t39.30808-6/s280x280/271990051_10223629058506444_2050524103094491138_n.jpg?_nc_cat=109&ccb=1-5&_nc_sid=365331&_nc_ohc=HdCQ3G7a-wAAX96xZYB&_nc_ht=scontent.fblq5-2.fna&oh=00_AT8WX2s5G7zoTau0pEPivBB7-pwtu2ZFQLg3O6m0-achrg&oe=61ECBB0A\n",
      "https://scontent.fblq5-1.fna.fbcdn.net/v/t39.30808-1/cp0/c0.2.40.40a/p40x40/261864668_10223386143113711_8171371854687343708_n.jpg?_nc_cat=106&ccb=1-5&_nc_sid=7206a8&_nc_ohc=l0vRwuINluUAX87pMmi&_nc_ht=scontent.fblq5-1.fna&oh=00_AT94922woxsfCg5xdxU2Czmdi4EyNLYfNVcTPaVyEi44ig&oe=61EB5A5F\n",
      "https://scontent.fblq5-2.fna.fbcdn.net/v/t39.30808-6/s280x280/272076241_4559978547447427_8596816481495348724_n.jpg?_nc_cat=109&ccb=1-5&_nc_sid=365331&_nc_ohc=-lb-k8VoqTgAX-JX0zO&_nc_oc=AQktZkDQ8cVI_M_NNQKMeIc38IwDQpWJMc3BMtNKrFanWTvTkhXVdh7g6cUKZAN1xVg&_nc_ht=scontent.fblq5-2.fna&oh=00_AT_PhTY0dAOFFo4zAn1pMBrxKR1Kx7sngTGXb2xuXQuM4A&oe=61EB8D0F\n",
      "https://scontent.fblq5-1.fna.fbcdn.net/v/t39.30808-1/cp0/p40x40/252041402_4293570207421597_478570567449895939_n.jpg?_nc_cat=110&ccb=1-5&_nc_sid=7206a8&_nc_ohc=oJcZhCFe9iwAX8QcwBL&_nc_ht=scontent.fblq5-1.fna&oh=00_AT8WdA0O7MrF7bRidu0N3NR8iOpbscKfEeI5OOWoxvwWxA&oe=61EBF309\n",
      "https://scontent.fblq5-1.fna.fbcdn.net/v/t15.5256-10/s280x280/271888293_659263388581072_7711728706040369902_n.jpg?_nc_cat=108&ccb=1-5&_nc_sid=ad6a45&_nc_ohc=vJYMyQnlECMAX_LbcJX&_nc_ht=scontent.fblq5-1.fna&oh=00_AT9I4Ws-IAiwfCbaXWIOeODroUpIhy6B6sK4DkENO6GoSg&oe=61ECD54E\n",
      "https://scontent.fblq5-1.fna.fbcdn.net/v/t39.30808-1/cp0/p40x40/271764244_7004291852944211_4858247988919094856_n.jpg?_nc_cat=111&ccb=1-5&_nc_sid=7206a8&_nc_ohc=UV4VQKFMIS0AX8lKyVX&_nc_oc=AQkR5_yTToGlbLNCMp9MYErVB--RuQdHJhvLT4A_bYfKepidlHTXfGvcN88BP4YZG7Q&_nc_ht=scontent.fblq5-1.fna&oh=00_AT-z4RY7fqtmwFE6anrca6p-zisE3bhr0H1hreseFd7IPg&oe=61EC7C95\n",
      "https://scontent.fblq5-1.fna.fbcdn.net/v/t15.5256-10/s280x280/271835692_448523423426285_8876484999535610000_n.jpg?_nc_cat=108&ccb=1-5&_nc_sid=ad6a45&_nc_ohc=CcpfHhGGHUoAX-2LYOG&_nc_ht=scontent.fblq5-1.fna&oh=00_AT9NW3qk8S__4eiv2KnT_Syslf8gMNhGmg_DGPs70-qRrg&oe=61EC56D7\n",
      "https://scontent.fblq5-1.fna.fbcdn.net/v/t1.18169-1/cp0/p40x40/12278854_1081361208601752_7825193452506414714_n.jpg?_nc_cat=111&ccb=1-5&_nc_sid=7206a8&_nc_ohc=d4C75kFdNAMAX_WYMc1&_nc_ht=scontent.fblq5-1.fna&oh=00_AT-TejXf33A9o0TaVEXKqOPndgEfqZCvfGAmynBkaRa1IA&oe=620BFEF0\n",
      "https://static.xx.fbcdn.net/rsrc.php/v3/yG/r/hqaaQvXQuKS.png\n",
      "https://scontent.fblq5-2.fna.fbcdn.net/v/t1.6435-1/cp0/p40x40/91276502_2956916831034144_5804765402827325440_n.jpg?_nc_cat=107&ccb=1-5&_nc_sid=7206a8&_nc_ohc=-KmSHv315mUAX-eldcG&_nc_ht=scontent.fblq5-2.fna&oh=00_AT9Kp4U7JUgZM3SkwobKsSEJ5_50U6iDw5vRWfnUTMGjHA&oe=620CF862\n",
      "https://scontent.fblq5-1.fna.fbcdn.net/v/t1.18169-9/p526x296/392211_280187738708474_1578474073_n.jpg?_nc_cat=104&ccb=1-5&_nc_sid=ba80b0&_nc_ohc=alXxahOERVwAX-glqJD&_nc_ht=scontent.fblq5-1.fna&oh=00_AT_DjJ7VVjs32mkxJvSV41EfbDQYC5nqzzozCJjvRkC4aQ&oe=620AEAB9\n",
      "https://scontent.fblq5-2.fna.fbcdn.net/v/t45.1600-4/cp0/q90/spS444/p526x296/270691008_6270301581138_8325053451204064723_n.png.jpg?_nc_cat=109&ccb=1-5&_nc_sid=68ce8d&_nc_ohc=C277rGAPN3oAX-0Fkwm&_nc_oc=AQl4OnMb9TW-1nm0PnreFpJGNSzTj09ve1FXsBdFJuRfhn0knf1HKOaTZJySlKoMslg&_nc_ht=scontent.fblq5-2.fna&oh=00_AT96c8uKN0H0v_oM0dPM-Mg2OPQd5ckXAo3pYQYrENqSLg&oe=61EC1AFC\n",
      "https://scontent.fblq5-2.fna.fbcdn.net/v/t1.6435-1/cp0/p24x24/91276502_2956916831034144_5804765402827325440_n.jpg?_nc_cat=107&ccb=1-5&_nc_sid=7206a8&_nc_ohc=-KmSHv315mUAX-eldcG&_nc_ht=scontent.fblq5-2.fna&oh=00_AT9y2-rWWM_iJfN-nA0WIdV5Xdr1EfywUIqDjZ2bWOH49g&oe=620B6015\n",
      "https://static.xx.fbcdn.net/rsrc.php/v3/yc/r/uZcEIx7yRqF.png\n",
      "https://scontent.fblq5-2.fna.fbcdn.net/v/t45.1600-4/p476x249/271880646_23849855857450730_2610929013045107077_n.jpg?_nc_cat=1&ccb=1-5&_nc_sid=eaa83b&_nc_ohc=vOML2RphmgcAX-mxnsi&_nc_ht=scontent.fblq5-2.fna&oh=00_AT-fMW6fLbQoLDt8npK5_8car0aviIDNsRIahYk8XrBcVA&oe=61EBB410\n",
      "https://scontent.fblq5-2.fna.fbcdn.net/v/t45.1600-4/cp0/q90/spS444/p296x100/265692278_23849856015870150_7905136508944156902_n.png.jpg?_nc_cat=107&ccb=1-5&_nc_sid=67cdda&_nc_ohc=YksbiI0JsEIAX8Pvnu6&_nc_ht=scontent.fblq5-2.fna&oh=00_AT9bCyEhUGcPypQaGWm_5ouo8KsBf7bFMQIHlAGe8qDjbA&oe=61EBF4FA\n",
      "3561879\n",
      "100% [..........................................................] 50944 / 50944Oops!  That was no valid.  Try again...\n",
      "100% [..........................................................] 56579 / 56579Oops!  That was no valid.  Try again...\n",
      "100% [..........................................................] 28488 / 284883561881\n",
      "3561882\n",
      "3561883\n",
      "3561884\n",
      "3561885\n",
      "3561886\n",
      "3561887\n",
      "https://scontent.fblq5-2.fna.fbcdn.net/v/t31.18172-8/p320x320/18156635_1461248813946763_136167518284940590_o.jpg?_nc_cat=105&ccb=1-5&_nc_sid=0aa96f&_nc_ohc=22ne-wh1-doAX_9WYk9&_nc_ht=scontent.fblq5-2.fna&oh=00_AT_u48TT54OAZq1xmcJDrx1-W-Ic4GOkq3hkq8TKJYnP5A&oe=620E477A\n",
      "3561888\n",
      "100% [..........................................................] 34828 / 34828https://scontent.fblq5-1.fna.fbcdn.net/v/t1.6435-9/65935258_2463452263741978_6899923106291253248_n.jpg?_nc_cat=104&ccb=1-5&_nc_sid=174925&_nc_ohc=xWu0YJ4Xay4AX-ltBFg&_nc_ht=scontent.fblq5-1.fna&oh=00_AT8qM-XzhagQPrjMy244R_yDk_If9OrnBPFjnxfNk_dKzQ&oe=620DCE37\n",
      "3561889\n",
      "100% [..........................................................] 96533 / 96533Time: 65.05773305892944\n"
     ]
    }
   ],
   "source": [
    "start = time.time()\n",
    "#Scrape menus\n",
    "anchors = []\n",
    "\n",
    "df = pd.DataFrame([], columns = [\"id\", \"e-mail\"])\n",
    "for index, row in lista_locali[400:410].iterrows():\n",
    "    menu_scraped = driver.get(str(row['paginafb'])+\"menu\")#+\"menu/\")\n",
    "    time.sleep(3)\n",
    "    n_scrolls = 2\n",
    "    for j in range(1,n_scrolls):\n",
    "        driver.execute_script(\"window.scrollTo(0, document.body.scrollHeight);\")\n",
    "        #this will slow the images scrolling, it gets to the bottom of the batch getting loaded\n",
    "        time.sleep(1)\n",
    "        #driver.execute_script(\"window.scrollTo(0, 4000);\")\n",
    "        try:\n",
    "            anchors = driver.find_elements_by_tag_name('img')                        \n",
    "            anchors = [a.get_attribute('src') for a in anchors]\n",
    "        except ValueError:\n",
    "            print(\"Oops!  That was no valid.  Try again...\")\n",
    "        #get link for download\n",
    "        for a in anchors[2:]:\n",
    "            if \"data:image\" not in a:\n",
    "                print(a)\n",
    "                driver.get(a)\n",
    "                img = driver.find_elements_by_tag_name(\"img\")\n",
    "                for k in img:\n",
    "                    k.get_attribute(\"src\")\n",
    "    #create path for each loop based on id\n",
    "        path_2 = os.path.join(path, str(row['id']))\n",
    "        print(row['id'])\n",
    "        try:\n",
    "            os.mkdir(path_2)\n",
    "        except FileExistsError:\n",
    "            print(\"[Errno 17] File exists: '/Users/matteozoli/Desktop/SCRAPING/scrapemen/{}\".format(row['id']))\n",
    "        #download images\n",
    "        counter = 0\n",
    "        for image in anchors[2:]:\n",
    "            save_as = os.path.join(path_2 + \"/\" + str(counter) + '.jpeg')\n",
    "                    #any(email_service in user_email for email_service in email_services\n",
    "            try:                        \n",
    "                wget.download(image, save_as)\n",
    "            except ValueError:\n",
    "                print(\"Oops!  That was no valid.  Try again...\")\n",
    "            counter += 1\n",
    "        \n",
    "        \n",
    "print(f\"Time: {time.time() - start}\")\n",
    "\n"
   ]
  },
  {
   "cell_type": "code",
   "execution_count": 152,
   "metadata": {},
   "outputs": [
    {
     "ename": "AttributeError",
     "evalue": "'list' object has no attribute 'decode'",
     "output_type": "error",
     "traceback": [
      "\u001b[0;31m---------------------------------------------------------------------------\u001b[0m",
      "\u001b[0;31mAttributeError\u001b[0m                            Traceback (most recent call last)",
      "\u001b[0;32m/var/folders/q6/9rxwk2595jgdfcyfrqk4nmqm0000gn/T/ipykernel_1573/3811296489.py\u001b[0m in \u001b[0;36m<module>\u001b[0;34m\u001b[0m\n\u001b[1;32m      6\u001b[0m         \u001b[0;31m#any(email_service in user_email for email_service in email_services)\u001b[0m\u001b[0;34m\u001b[0m\u001b[0;34m\u001b[0m\u001b[0;34m\u001b[0m\u001b[0m\n\u001b[1;32m      7\u001b[0m         \u001b[0;32mif\u001b[0m \u001b[0mstr\u001b[0m\u001b[0;34m(\u001b[0m\u001b[0mi\u001b[0m\u001b[0;34m)\u001b[0m \u001b[0;32mnot\u001b[0m \u001b[0;32min\u001b[0m \u001b[0mimage\u001b[0m\u001b[0;34m:\u001b[0m\u001b[0;34m\u001b[0m\u001b[0;34m\u001b[0m\u001b[0m\n\u001b[0;32m----> 8\u001b[0;31m             \u001b[0mwget\u001b[0m\u001b[0;34m.\u001b[0m\u001b[0mdownload\u001b[0m\u001b[0;34m(\u001b[0m\u001b[0mimage\u001b[0m\u001b[0;34m,\u001b[0m \u001b[0msave_as\u001b[0m\u001b[0;34m)\u001b[0m\u001b[0;34m\u001b[0m\u001b[0;34m\u001b[0m\u001b[0m\n\u001b[0m\u001b[1;32m      9\u001b[0m             \u001b[0mcounter\u001b[0m \u001b[0;34m+=\u001b[0m \u001b[0;36m1\u001b[0m\u001b[0;34m\u001b[0m\u001b[0;34m\u001b[0m\u001b[0m\n\u001b[1;32m     10\u001b[0m             \u001b[0mprint\u001b[0m\u001b[0;34m(\u001b[0m\u001b[0mi\u001b[0m\u001b[0;34m)\u001b[0m\u001b[0;34m\u001b[0m\u001b[0;34m\u001b[0m\u001b[0m\n",
      "\u001b[0;32m/Library/Frameworks/Python.framework/Versions/3.7/lib/python3.7/site-packages/wget.py\u001b[0m in \u001b[0;36mdownload\u001b[0;34m(url, out, bar)\u001b[0m\n\u001b[1;32m    503\u001b[0m \u001b[0;34m\u001b[0m\u001b[0m\n\u001b[1;32m    504\u001b[0m     \u001b[0;31m# get filename for temp file in current directory\u001b[0m\u001b[0;34m\u001b[0m\u001b[0;34m\u001b[0m\u001b[0;34m\u001b[0m\u001b[0m\n\u001b[0;32m--> 505\u001b[0;31m     \u001b[0mprefix\u001b[0m \u001b[0;34m=\u001b[0m \u001b[0mdetect_filename\u001b[0m\u001b[0;34m(\u001b[0m\u001b[0murl\u001b[0m\u001b[0;34m,\u001b[0m \u001b[0mout\u001b[0m\u001b[0;34m)\u001b[0m\u001b[0;34m\u001b[0m\u001b[0;34m\u001b[0m\u001b[0m\n\u001b[0m\u001b[1;32m    506\u001b[0m     \u001b[0;34m(\u001b[0m\u001b[0mfd\u001b[0m\u001b[0;34m,\u001b[0m \u001b[0mtmpfile\u001b[0m\u001b[0;34m)\u001b[0m \u001b[0;34m=\u001b[0m \u001b[0mtempfile\u001b[0m\u001b[0;34m.\u001b[0m\u001b[0mmkstemp\u001b[0m\u001b[0;34m(\u001b[0m\u001b[0;34m\".tmp\"\u001b[0m\u001b[0;34m,\u001b[0m \u001b[0mprefix\u001b[0m\u001b[0;34m=\u001b[0m\u001b[0mprefix\u001b[0m\u001b[0;34m,\u001b[0m \u001b[0mdir\u001b[0m\u001b[0;34m=\u001b[0m\u001b[0;34m\".\"\u001b[0m\u001b[0;34m)\u001b[0m\u001b[0;34m\u001b[0m\u001b[0;34m\u001b[0m\u001b[0m\n\u001b[1;32m    507\u001b[0m     \u001b[0mos\u001b[0m\u001b[0;34m.\u001b[0m\u001b[0mclose\u001b[0m\u001b[0;34m(\u001b[0m\u001b[0mfd\u001b[0m\u001b[0;34m)\u001b[0m\u001b[0;34m\u001b[0m\u001b[0;34m\u001b[0m\u001b[0m\n",
      "\u001b[0;32m/Library/Frameworks/Python.framework/Versions/3.7/lib/python3.7/site-packages/wget.py\u001b[0m in \u001b[0;36mdetect_filename\u001b[0;34m(url, out, headers, default)\u001b[0m\n\u001b[1;32m    482\u001b[0m         \u001b[0mnames\u001b[0m\u001b[0;34m[\u001b[0m\u001b[0;34m\"out\"\u001b[0m\u001b[0;34m]\u001b[0m \u001b[0;34m=\u001b[0m \u001b[0mout\u001b[0m \u001b[0;32mor\u001b[0m \u001b[0;34m''\u001b[0m\u001b[0;34m\u001b[0m\u001b[0;34m\u001b[0m\u001b[0m\n\u001b[1;32m    483\u001b[0m     \u001b[0;32mif\u001b[0m \u001b[0murl\u001b[0m\u001b[0;34m:\u001b[0m\u001b[0;34m\u001b[0m\u001b[0;34m\u001b[0m\u001b[0m\n\u001b[0;32m--> 484\u001b[0;31m         \u001b[0mnames\u001b[0m\u001b[0;34m[\u001b[0m\u001b[0;34m\"url\"\u001b[0m\u001b[0;34m]\u001b[0m \u001b[0;34m=\u001b[0m \u001b[0mfilename_from_url\u001b[0m\u001b[0;34m(\u001b[0m\u001b[0murl\u001b[0m\u001b[0;34m)\u001b[0m \u001b[0;32mor\u001b[0m \u001b[0;34m''\u001b[0m\u001b[0;34m\u001b[0m\u001b[0;34m\u001b[0m\u001b[0m\n\u001b[0m\u001b[1;32m    485\u001b[0m     \u001b[0;32mif\u001b[0m \u001b[0mheaders\u001b[0m\u001b[0;34m:\u001b[0m\u001b[0;34m\u001b[0m\u001b[0;34m\u001b[0m\u001b[0m\n\u001b[1;32m    486\u001b[0m         \u001b[0mnames\u001b[0m\u001b[0;34m[\u001b[0m\u001b[0;34m\"headers\"\u001b[0m\u001b[0;34m]\u001b[0m \u001b[0;34m=\u001b[0m \u001b[0mfilename_from_headers\u001b[0m\u001b[0;34m(\u001b[0m\u001b[0mheaders\u001b[0m\u001b[0;34m)\u001b[0m \u001b[0;32mor\u001b[0m \u001b[0;34m''\u001b[0m\u001b[0;34m\u001b[0m\u001b[0;34m\u001b[0m\u001b[0m\n",
      "\u001b[0;32m/Library/Frameworks/Python.framework/Versions/3.7/lib/python3.7/site-packages/wget.py\u001b[0m in \u001b[0;36mfilename_from_url\u001b[0;34m(url)\u001b[0m\n\u001b[1;32m    228\u001b[0m     \u001b[0;34m\"\"\":return: detected filename as unicode or None\"\"\"\u001b[0m\u001b[0;34m\u001b[0m\u001b[0;34m\u001b[0m\u001b[0m\n\u001b[1;32m    229\u001b[0m     \u001b[0;31m# [ ] test urlparse behavior with unicode url\u001b[0m\u001b[0;34m\u001b[0m\u001b[0;34m\u001b[0m\u001b[0;34m\u001b[0m\u001b[0m\n\u001b[0;32m--> 230\u001b[0;31m     \u001b[0mfname\u001b[0m \u001b[0;34m=\u001b[0m \u001b[0mos\u001b[0m\u001b[0;34m.\u001b[0m\u001b[0mpath\u001b[0m\u001b[0;34m.\u001b[0m\u001b[0mbasename\u001b[0m\u001b[0;34m(\u001b[0m\u001b[0murlparse\u001b[0m\u001b[0;34m.\u001b[0m\u001b[0murlparse\u001b[0m\u001b[0;34m(\u001b[0m\u001b[0murl\u001b[0m\u001b[0;34m)\u001b[0m\u001b[0;34m.\u001b[0m\u001b[0mpath\u001b[0m\u001b[0;34m)\u001b[0m\u001b[0;34m\u001b[0m\u001b[0;34m\u001b[0m\u001b[0m\n\u001b[0m\u001b[1;32m    231\u001b[0m     \u001b[0;32mif\u001b[0m \u001b[0mlen\u001b[0m\u001b[0;34m(\u001b[0m\u001b[0mfname\u001b[0m\u001b[0;34m.\u001b[0m\u001b[0mstrip\u001b[0m\u001b[0;34m(\u001b[0m\u001b[0;34m\" \\n\\t.\"\u001b[0m\u001b[0;34m)\u001b[0m\u001b[0;34m)\u001b[0m \u001b[0;34m==\u001b[0m \u001b[0;36m0\u001b[0m\u001b[0;34m:\u001b[0m\u001b[0;34m\u001b[0m\u001b[0;34m\u001b[0m\u001b[0m\n\u001b[1;32m    232\u001b[0m         \u001b[0;32mreturn\u001b[0m \u001b[0;32mNone\u001b[0m\u001b[0;34m\u001b[0m\u001b[0;34m\u001b[0m\u001b[0m\n",
      "\u001b[0;32m/Library/Frameworks/Python.framework/Versions/3.7/lib/python3.7/urllib/parse.py\u001b[0m in \u001b[0;36murlparse\u001b[0;34m(url, scheme, allow_fragments)\u001b[0m\n\u001b[1;32m    365\u001b[0m     \u001b[0mNote\u001b[0m \u001b[0mthat\u001b[0m \u001b[0mwe\u001b[0m \u001b[0mdon\u001b[0m\u001b[0;31m'\u001b[0m\u001b[0mt\u001b[0m \u001b[0;32mbreak\u001b[0m \u001b[0mthe\u001b[0m \u001b[0mcomponents\u001b[0m \u001b[0mup\u001b[0m \u001b[0;32min\u001b[0m \u001b[0msmaller\u001b[0m \u001b[0mbits\u001b[0m\u001b[0;34m\u001b[0m\u001b[0;34m\u001b[0m\u001b[0m\n\u001b[1;32m    366\u001b[0m     (e.g. netloc is a single string) and we don't expand % escapes.\"\"\"\n\u001b[0;32m--> 367\u001b[0;31m     \u001b[0murl\u001b[0m\u001b[0;34m,\u001b[0m \u001b[0mscheme\u001b[0m\u001b[0;34m,\u001b[0m \u001b[0m_coerce_result\u001b[0m \u001b[0;34m=\u001b[0m \u001b[0m_coerce_args\u001b[0m\u001b[0;34m(\u001b[0m\u001b[0murl\u001b[0m\u001b[0;34m,\u001b[0m \u001b[0mscheme\u001b[0m\u001b[0;34m)\u001b[0m\u001b[0;34m\u001b[0m\u001b[0;34m\u001b[0m\u001b[0m\n\u001b[0m\u001b[1;32m    368\u001b[0m     \u001b[0msplitresult\u001b[0m \u001b[0;34m=\u001b[0m \u001b[0murlsplit\u001b[0m\u001b[0;34m(\u001b[0m\u001b[0murl\u001b[0m\u001b[0;34m,\u001b[0m \u001b[0mscheme\u001b[0m\u001b[0;34m,\u001b[0m \u001b[0mallow_fragments\u001b[0m\u001b[0;34m)\u001b[0m\u001b[0;34m\u001b[0m\u001b[0;34m\u001b[0m\u001b[0m\n\u001b[1;32m    369\u001b[0m     \u001b[0mscheme\u001b[0m\u001b[0;34m,\u001b[0m \u001b[0mnetloc\u001b[0m\u001b[0;34m,\u001b[0m \u001b[0murl\u001b[0m\u001b[0;34m,\u001b[0m \u001b[0mquery\u001b[0m\u001b[0;34m,\u001b[0m \u001b[0mfragment\u001b[0m \u001b[0;34m=\u001b[0m \u001b[0msplitresult\u001b[0m\u001b[0;34m\u001b[0m\u001b[0;34m\u001b[0m\u001b[0m\n",
      "\u001b[0;32m/Library/Frameworks/Python.framework/Versions/3.7/lib/python3.7/urllib/parse.py\u001b[0m in \u001b[0;36m_coerce_args\u001b[0;34m(*args)\u001b[0m\n\u001b[1;32m    121\u001b[0m     \u001b[0;32mif\u001b[0m \u001b[0mstr_input\u001b[0m\u001b[0;34m:\u001b[0m\u001b[0;34m\u001b[0m\u001b[0;34m\u001b[0m\u001b[0m\n\u001b[1;32m    122\u001b[0m         \u001b[0;32mreturn\u001b[0m \u001b[0margs\u001b[0m \u001b[0;34m+\u001b[0m \u001b[0;34m(\u001b[0m\u001b[0m_noop\u001b[0m\u001b[0;34m,\u001b[0m\u001b[0;34m)\u001b[0m\u001b[0;34m\u001b[0m\u001b[0;34m\u001b[0m\u001b[0m\n\u001b[0;32m--> 123\u001b[0;31m     \u001b[0;32mreturn\u001b[0m \u001b[0m_decode_args\u001b[0m\u001b[0;34m(\u001b[0m\u001b[0margs\u001b[0m\u001b[0;34m)\u001b[0m \u001b[0;34m+\u001b[0m \u001b[0;34m(\u001b[0m\u001b[0m_encode_result\u001b[0m\u001b[0;34m,\u001b[0m\u001b[0;34m)\u001b[0m\u001b[0;34m\u001b[0m\u001b[0;34m\u001b[0m\u001b[0m\n\u001b[0m\u001b[1;32m    124\u001b[0m \u001b[0;34m\u001b[0m\u001b[0m\n\u001b[1;32m    125\u001b[0m \u001b[0;31m# Result objects are more helpful than simple tuples\u001b[0m\u001b[0;34m\u001b[0m\u001b[0;34m\u001b[0m\u001b[0;34m\u001b[0m\u001b[0m\n",
      "\u001b[0;32m/Library/Frameworks/Python.framework/Versions/3.7/lib/python3.7/urllib/parse.py\u001b[0m in \u001b[0;36m_decode_args\u001b[0;34m(args, encoding, errors)\u001b[0m\n\u001b[1;32m    105\u001b[0m def _decode_args(args, encoding=_implicit_encoding,\n\u001b[1;32m    106\u001b[0m                        errors=_implicit_errors):\n\u001b[0;32m--> 107\u001b[0;31m     \u001b[0;32mreturn\u001b[0m \u001b[0mtuple\u001b[0m\u001b[0;34m(\u001b[0m\u001b[0mx\u001b[0m\u001b[0;34m.\u001b[0m\u001b[0mdecode\u001b[0m\u001b[0;34m(\u001b[0m\u001b[0mencoding\u001b[0m\u001b[0;34m,\u001b[0m \u001b[0merrors\u001b[0m\u001b[0;34m)\u001b[0m \u001b[0;32mif\u001b[0m \u001b[0mx\u001b[0m \u001b[0;32melse\u001b[0m \u001b[0;34m''\u001b[0m \u001b[0;32mfor\u001b[0m \u001b[0mx\u001b[0m \u001b[0;32min\u001b[0m \u001b[0margs\u001b[0m\u001b[0;34m)\u001b[0m\u001b[0;34m\u001b[0m\u001b[0;34m\u001b[0m\u001b[0m\n\u001b[0m\u001b[1;32m    108\u001b[0m \u001b[0;34m\u001b[0m\u001b[0m\n\u001b[1;32m    109\u001b[0m \u001b[0;32mdef\u001b[0m \u001b[0m_coerce_args\u001b[0m\u001b[0;34m(\u001b[0m\u001b[0;34m*\u001b[0m\u001b[0margs\u001b[0m\u001b[0;34m)\u001b[0m\u001b[0;34m:\u001b[0m\u001b[0;34m\u001b[0m\u001b[0;34m\u001b[0m\u001b[0m\n",
      "\u001b[0;32m/Library/Frameworks/Python.framework/Versions/3.7/lib/python3.7/urllib/parse.py\u001b[0m in \u001b[0;36m<genexpr>\u001b[0;34m(.0)\u001b[0m\n\u001b[1;32m    105\u001b[0m def _decode_args(args, encoding=_implicit_encoding,\n\u001b[1;32m    106\u001b[0m                        errors=_implicit_errors):\n\u001b[0;32m--> 107\u001b[0;31m     \u001b[0;32mreturn\u001b[0m \u001b[0mtuple\u001b[0m\u001b[0;34m(\u001b[0m\u001b[0mx\u001b[0m\u001b[0;34m.\u001b[0m\u001b[0mdecode\u001b[0m\u001b[0;34m(\u001b[0m\u001b[0mencoding\u001b[0m\u001b[0;34m,\u001b[0m \u001b[0merrors\u001b[0m\u001b[0;34m)\u001b[0m \u001b[0;32mif\u001b[0m \u001b[0mx\u001b[0m \u001b[0;32melse\u001b[0m \u001b[0;34m''\u001b[0m \u001b[0;32mfor\u001b[0m \u001b[0mx\u001b[0m \u001b[0;32min\u001b[0m \u001b[0margs\u001b[0m\u001b[0;34m)\u001b[0m\u001b[0;34m\u001b[0m\u001b[0;34m\u001b[0m\u001b[0m\n\u001b[0m\u001b[1;32m    108\u001b[0m \u001b[0;34m\u001b[0m\u001b[0m\n\u001b[1;32m    109\u001b[0m \u001b[0;32mdef\u001b[0m \u001b[0m_coerce_args\u001b[0m\u001b[0;34m(\u001b[0m\u001b[0;34m*\u001b[0m\u001b[0margs\u001b[0m\u001b[0;34m)\u001b[0m\u001b[0;34m:\u001b[0m\u001b[0;34m\u001b[0m\u001b[0;34m\u001b[0m\u001b[0m\n",
      "\u001b[0;31mAttributeError\u001b[0m: 'list' object has no attribute 'decode'"
     ]
    }
   ],
   "source": [
    "conter = 0\n",
    "substrings = [\"ata\", \"xx\"]\n",
    "df = pd.DataFrame([], columns = [\"id\", \"e-mail\"])\n",
    "for index, row in lista_locali[100:200].iterrows():        \n",
    "    for i in substrings:\n",
    "        #any(email_service in user_email for email_service in email_services)\n",
    "        if str(i) not in image:\n",
    "            wget.download(image, save_as)\n",
    "            counter += 1  \n",
    "            print(i)\n",
    "        else:\n",
    "            continue\n",
    "        counter += 1"
   ]
  },
  {
   "cell_type": "code",
   "execution_count": 121,
   "metadata": {},
   "outputs": [
    {
     "data": {
      "text/plain": [
       "\"data:image/svg+xml,%3csvg xmlns='http://www.w3.org/2000/svg' xmlns:xlink='http://www.w3.org/1999/xlink' viewBox='0 0 16 16'%3e%3cdefs%3e%3clinearGradient id='a' x1='50%25' x2='50%25' y1='0%25' y2='100%25'%3e%3cstop offset='0%25' stop-color='%2318AFFF'/%3e%3cstop offset='100%25' stop-color='%230062DF'/%3e%3c/linearGradient%3e%3cfilter id='c' width='118.8%25' height='118.8%25' x='-9.4%25' y='-9.4%25' filterUnits='objectBoundingBox'%3e%3cfeGaussianBlur in='SourceAlpha' result='shadowBlurInner1' stdDeviation='1'/%3e%3cfeOffset dy='-1' in='shadowBlurInner1' result='shadowOffsetInner1'/%3e%3cfeComposite in='shadowOffsetInner1' in2='SourceAlpha' k2='-1' k3='1' operator='arithmetic' result='shadowInnerInner1'/%3e%3cfeColorMatrix in='shadowInnerInner1' values='0 0 0 0 0 0 0 0 0 0.299356041 0 0 0 0 0.681187726 0 0 0 0.3495684 0'/%3e%3c/filter%3e%3cpath id='b' d='M8 0a8 8 0 00-8 8 8 8 0 1016 0 8 8 0 00-8-8z'/%3e%3c/defs%3e%3cg fill='none'%3e%3cuse fill='url(%23a)' xlink:href='%23b'/%3e%3cuse fill='black' filter='url(%23c)' xlink:href='%23b'/%3e%3cpath fill='white' d='M12.162 7.338c.176.123.338.245.338.674 0 .43-.229.604-.474.725a.73.73 0 01.089.546c-.077.344-.392.611-.672.69.121.194.159.385.015.62-.185.295-.346.407-1.058.407H7.5c-.988 0-1.5-.546-1.5-1V7.665c0-1.23 1.467-2.275 1.467-3.13L7.361 3.47c-.005-.065.008-.224.058-.27.08-.079.301-.2.635-.2.218 0 .363.041.534.123.581.277.732.978.732 1.542 0 .271-.414 1.083-.47 1.364 0 0 .867-.192 1.879-.199 1.061-.006 1.749.19 1.749.842 0 .261-.219.523-.316.666zM3.6 7h.8a.6.6 0 01.6.6v3.8a.6.6 0 01-.6.6h-.8a.6.6 0 01-.6-.6V7.6a.6.6 0 01.6-.6z'/%3e%3c/g%3e%3c/svg%3e\""
      ]
     },
     "execution_count": 121,
     "metadata": {},
     "output_type": "execute_result"
    }
   ],
   "source": [
    "image"
   ]
  },
  {
   "cell_type": "code",
   "execution_count": 63,
   "metadata": {},
   "outputs": [
    {
     "name": "stdout",
     "output_type": "stream",
     "text": [
      "\r",
      "  0% [                                                          ]     0 / 51096\r",
      " 16% [.........                                                 ]  8192 / 51096\r",
      " 32% [..................                                        ] 16384 / 51096\r",
      " 48% [...........................                               ] 24576 / 51096\r",
      " 64% [.....................................                     ] 32768 / 51096\r",
      " 80% [..............................................            ] 40960 / 51096\r",
      " 96% [.......................................................   ] 49152 / 51096\r",
      "100% [..........................................................] 51096 / 51096\r",
      "  0% [                                                          ]     0 / 24701\r",
      " 33% [...................                                       ]  8192 / 24701\r",
      " 66% [......................................                    ] 16384 / 24701\r",
      " 99% [......................................................... ] 24576 / 24701\r",
      "100% [..........................................................] 24701 / 24701"
     ]
    }
   ],
   "source": [
    "    path_2 = os.path.join(path, str(row['id']))\n",
    "    os.mkdir(path_2)\n",
    "    counter = 0\n",
    "    for image in anchors[2:]:\n",
    "        save_as = os.path.join(path_2 + \"/\" + str(counter) + '.jpeg')\n",
    "        wget.download(image, save_as)\n",
    "        counter += 1"
   ]
  },
  {
   "cell_type": "code",
   "execution_count": 30,
   "metadata": {},
   "outputs": [
    {
     "ename": "NameError",
     "evalue": "name 'path_2' is not defined",
     "output_type": "error",
     "traceback": [
      "\u001b[0;31m---------------------------------------------------------------------------\u001b[0m",
      "\u001b[0;31mNameError\u001b[0m                                 Traceback (most recent call last)",
      "\u001b[0;32m/var/folders/q6/9rxwk2595jgdfcyfrqk4nmqm0000gn/T/ipykernel_1573/1313731144.py\u001b[0m in \u001b[0;36m<module>\u001b[0;34m\u001b[0m\n\u001b[1;32m      1\u001b[0m \u001b[0mcounter\u001b[0m \u001b[0;34m=\u001b[0m \u001b[0;36m0\u001b[0m\u001b[0;34m\u001b[0m\u001b[0;34m\u001b[0m\u001b[0m\n\u001b[1;32m      2\u001b[0m \u001b[0;32mfor\u001b[0m \u001b[0mimage\u001b[0m \u001b[0;32min\u001b[0m \u001b[0manchors\u001b[0m\u001b[0;34m[\u001b[0m\u001b[0;36m2\u001b[0m\u001b[0;34m:\u001b[0m\u001b[0;34m]\u001b[0m\u001b[0;34m:\u001b[0m\u001b[0;34m\u001b[0m\u001b[0;34m\u001b[0m\u001b[0m\n\u001b[0;32m----> 3\u001b[0;31m     \u001b[0msave_as\u001b[0m \u001b[0;34m=\u001b[0m \u001b[0mos\u001b[0m\u001b[0;34m.\u001b[0m\u001b[0mpath\u001b[0m\u001b[0;34m.\u001b[0m\u001b[0mjoin\u001b[0m\u001b[0;34m(\u001b[0m\u001b[0mpath_2\u001b[0m \u001b[0;34m+\u001b[0m \u001b[0;34m\"/\"\u001b[0m \u001b[0;34m+\u001b[0m \u001b[0mstr\u001b[0m\u001b[0;34m(\u001b[0m\u001b[0mcounter\u001b[0m\u001b[0;34m)\u001b[0m \u001b[0;34m+\u001b[0m \u001b[0;34m'.jpeg'\u001b[0m\u001b[0;34m)\u001b[0m\u001b[0;34m\u001b[0m\u001b[0;34m\u001b[0m\u001b[0m\n\u001b[0m\u001b[1;32m      4\u001b[0m     \u001b[0mwget\u001b[0m\u001b[0;34m.\u001b[0m\u001b[0mdownload\u001b[0m\u001b[0;34m(\u001b[0m\u001b[0mimage\u001b[0m\u001b[0;34m,\u001b[0m \u001b[0msave_as\u001b[0m\u001b[0;34m)\u001b[0m\u001b[0;34m\u001b[0m\u001b[0;34m\u001b[0m\u001b[0m\n\u001b[1;32m      5\u001b[0m     \u001b[0mcounter\u001b[0m \u001b[0;34m+=\u001b[0m \u001b[0;36m1\u001b[0m\u001b[0;34m\u001b[0m\u001b[0;34m\u001b[0m\u001b[0m\n",
      "\u001b[0;31mNameError\u001b[0m: name 'path_2' is not defined"
     ]
    }
   ],
   "source": [
    "                counter = 0\n",
    "                for image in anchors[2:]:\n",
    "                    save_as = os.path.join(path + \"/\" + str(counter) + '.jpeg')\n",
    "                    wget.download(image, save_as)\n",
    "                    counter += 1"
   ]
  },
  {
   "cell_type": "code",
   "execution_count": null,
   "metadata": {},
   "outputs": [],
   "source": [
    "       for i in restaurant_folder:\n",
    "                path_2 = os.path.join(path, i)\n",
    "                os.mkdir(path_2)\n",
    "        #download images and put in right directory\n",
    "                counter = 0\n",
    "                for image in anchors[2:]:\n",
    "                    save_as = os.path.join(path_2 + \"/\" + str(counter) + '.jpeg')\n",
    "                    wget.download(image, save_as)\n",
    "                    counter += 1\n",
    "    time.sleep(5)"
   ]
  },
  {
   "cell_type": "code",
   "execution_count": 126,
   "metadata": {},
   "outputs": [
    {
     "name": "stdout",
     "output_type": "stream",
     "text": [
      "\r",
      "  0% [                                                          ]     0 / 23997\r",
      " 34% [...................                                       ]  8192 / 23997\r",
      " 68% [.......................................                   ] 16384 / 23997\r",
      "100% [..........................................................] 23997 / 23997"
     ]
    }
   ],
   "source": [
    "counter = 0\n",
    "for image in anchors[2:]:\n",
    "        save_as = os.path.join(path_3 + \"/\" + str(counter) + '.jpeg')\n",
    "        wget.download(image, save_as)\n",
    "        counter += 1"
   ]
  },
  {
   "cell_type": "code",
   "execution_count": 153,
   "metadata": {},
   "outputs": [
    {
     "name": "stdout",
     "output_type": "stream",
     "text": [
      "Created by Matte Zoli\n"
     ]
    }
   ],
   "source": [
    "print(\"Created by Matte Zoli\")"
   ]
  }
 ],
 "metadata": {
  "kernelspec": {
   "display_name": "Python 3 (ipykernel)",
   "language": "python",
   "name": "python3"
  },
  "language_info": {
   "codemirror_mode": {
    "name": "ipython",
    "version": 3
   },
   "file_extension": ".py",
   "mimetype": "text/x-python",
   "name": "python",
   "nbconvert_exporter": "python",
   "pygments_lexer": "ipython3",
   "version": "3.7.7"
  }
 },
 "nbformat": 4,
 "nbformat_minor": 2
}
