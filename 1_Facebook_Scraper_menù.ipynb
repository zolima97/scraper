{
 "cells": [
  {
   "cell_type": "code",
   "execution_count": 1,
   "metadata": {},
   "outputs": [],
   "source": [
    "#imports here\n",
    "from selenium import webdriver\n",
    "from selenium.webdriver.common.keys import Keys\n",
    "from selenium.webdriver.support import expected_conditions as EC\n",
    "from selenium.webdriver.common.by import By\n",
    "from selenium.webdriver.support.wait import WebDriverWait\n",
    "from webdriver_manager.chrome import ChromeDriverManager\n",
    "from selenium.webdriver.chrome.service import Service\n",
    "import time\n",
    "import os\n",
    "import wget"
   ]
  },
  {
   "cell_type": "code",
   "execution_count": 2,
   "metadata": {},
   "outputs": [
    {
     "name": "stderr",
     "output_type": "stream",
     "text": [
      "\n",
      "\n",
      "====== WebDriver manager ======\n",
      "Current google-chrome version is 97.0.4692\n",
      "Get LATEST chromedriver version for 97.0.4692 google-chrome\n",
      "Driver [/Users/matteozoli/.wdm/drivers/chromedriver/mac64/97.0.4692.71/chromedriver] found in cache\n",
      "/Library/Frameworks/Python.framework/Versions/3.7/lib/python3.7/site-packages/ipykernel_launcher.py:5: DeprecationWarning: executable_path has been deprecated, please pass in a Service object\n",
      "  \"\"\"\n",
      "/Library/Frameworks/Python.framework/Versions/3.7/lib/python3.7/site-packages/ipykernel_launcher.py:5: DeprecationWarning: use options instead of chrome_options\n",
      "  \"\"\"\n"
     ]
    }
   ],
   "source": [
    "chrome_options = webdriver.ChromeOptions()\n",
    "prefs = {\"profile.default_content_setting_values.notifications\" : 2}\n",
    "chrome_options.add_experimental_option(\"prefs\",prefs)\n",
    "\n",
    "driver = webdriver.Chrome(ChromeDriverManager().install(), chrome_options=chrome_options)\n",
    "driver.get(\"http://www.facebook.com\")"
   ]
  },
  {
   "cell_type": "code",
   "execution_count": 3,
   "metadata": {
    "scrolled": true
   },
   "outputs": [
    {
     "name": "stderr",
     "output_type": "stream",
     "text": [
      "/Library/Frameworks/Python.framework/Versions/3.7/lib/python3.7/site-packages/ipykernel_launcher.py:2: DeprecationWarning: find_element_by_* commands are deprecated. Please use find_element() instead\n",
      "  \n"
     ]
    }
   ],
   "source": [
    "\n",
    "time.sleep(1.5)\n",
    "l=driver.find_element_by_xpath(\"//*[@title='Allow All Cookies']\")\n",
    "l.click()\n",
    "\n",
    "#target username\n",
    "username = WebDriverWait(driver, 10).until(EC.element_to_be_clickable((By.CSS_SELECTOR, \"input[name='email']\")))\n",
    "password = WebDriverWait(driver, 10).until(EC.element_to_be_clickable((By.CSS_SELECTOR, \"input[name='pass']\")))\n",
    "\n",
    "#enter username and password\n",
    "username.clear()\n",
    "username.send_keys(\"rimorchiatorediasmatiche@live.it\")\n",
    "password.clear()\n",
    "password.send_keys(\"notterosa\")\n",
    "\n",
    "#target the login button and click it\n",
    "button = WebDriverWait(driver, 2).until(EC.element_to_be_clickable((By.CSS_SELECTOR, \"button[type='submit']\"))).click()\n",
    "\n",
    "#We are logged in!"
   ]
  },
  {
   "cell_type": "code",
   "execution_count": 4,
   "metadata": {},
   "outputs": [
    {
     "name": "stderr",
     "output_type": "stream",
     "text": [
      "/Library/Frameworks/Python.framework/Versions/3.7/lib/python3.7/site-packages/ipykernel_launcher.py:13: DeprecationWarning: find_elements_by_* commands are deprecated. Please use find_elements() instead\n",
      "  del sys.path[0]\n"
     ]
    }
   ],
   "source": [
    "#https://www.facebook.com/matteo.zoli2/photos_by\n",
    "anchors = []\n",
    "\n",
    "driver.get(\"https://www.facebook.com/ristoranteOrsoGrigio/menu\")\n",
    "time.sleep(5)\n",
    "\n",
    "n_scrolls = 2\n",
    "for j in range(1,n_scrolls):\n",
    "    driver.execute_script(\"window.scrollTo(0, document.body.scrollHeight);\")\n",
    "    #this will slow the images scrolling, it gets to the bottom of the batch getting loaded\n",
    "    time.sleep(5)\n",
    "    #driver.execute_script(\"window.scrollTo(0, 4000);\")\n",
    "    anchors = driver.find_elements_by_tag_name('img')\n",
    "    anchors = [a.get_attribute('src') for a in anchors]\n",
    "\n",
    "        #anchors = [a for a in anchors if str(a).startswith(\"https://www.facebook.com/photo\")]\n",
    "                \n"
   ]
  },
  {
   "cell_type": "code",
   "execution_count": 5,
   "metadata": {},
   "outputs": [
    {
     "data": {
      "text/plain": [
       "['https://scontent.fblq5-2.fna.fbcdn.net/v/t1.6435-9/fb50/s320x320/122278314_3322652541121272_430177183458909885_n.jpg?_nc_cat=105&ccb=1-5&_nc_sid=e3f864&_nc_ohc=-n8horiCBa8AX9g79X4&_nc_ht=scontent.fblq5-2.fna&oh=00_AT_uO1cccb1uOCn-v61s-iaho8H9-71V4y2OvDiQJ7AM3g&oe=62044567',\n",
       " 'https://scontent.fblq5-2.fna.fbcdn.net/v/t1.6435-9/122278314_3322652541121272_430177183458909885_n.jpg?_nc_cat=105&ccb=1-5&_nc_sid=e3f864&_nc_ohc=-n8horiCBa8AX9g79X4&_nc_ht=scontent.fblq5-2.fna&oh=00_AT-9BJ-5Mfb3u6CmbudFwhremEtkQwDRo-TeB0F-MlJ_eQ&oe=62029BF8',\n",
       " 'https://scontent.fblq5-2.fna.fbcdn.net/v/t39.30808-6/s552x414/271134931_4602079669845213_5098013560447411351_n.jpg?_nc_cat=105&_nc_rgb565=1&ccb=1-5&_nc_sid=c4c01c&_nc_ohc=60R4FMrm9dgAX-ejkL4&_nc_ht=scontent.fblq5-2.fna&oh=00_AT_CBq6SHMKIsunu3o92uOj-GyQrd9qD_A1hqgMyuutuEA&oe=61E200FD',\n",
       " 'https://scontent.fblq5-1.fna.fbcdn.net/v/t39.30808-6/s552x414/271243812_4602080426511804_1700218833575361136_n.jpg?_nc_cat=110&_nc_rgb565=1&ccb=1-5&_nc_sid=c4c01c&_nc_ohc=qrVJr3Nr3RwAX9DakWy&_nc_ht=scontent.fblq5-1.fna&oh=00_AT8uaMaV1L1UzD2DUUfQnQlhMVuFi8ebNH7HX1udMNzOOQ&oe=61E232C9',\n",
       " 'https://scontent.fblq5-2.fna.fbcdn.net/v/t39.30808-6/s552x414/271158810_4602080629845117_2075798751486370233_n.jpg?_nc_cat=107&_nc_rgb565=1&ccb=1-5&_nc_sid=c4c01c&_nc_ohc=braaoiXK55wAX9FO20O&_nc_ht=scontent.fblq5-2.fna&oh=00_AT-LkFug86_lTMfhigDtnr0MDNLJegCdEO1Qfdrs_5mjfQ&oe=61E23B9C',\n",
       " 'https://scontent.fblq5-1.fna.fbcdn.net/v/t39.30808-6/s552x414/271164087_4602080879845092_796280397132889504_n.jpg?_nc_cat=104&_nc_rgb565=1&ccb=1-5&_nc_sid=c4c01c&_nc_ohc=MfUrevOOqMcAX9mNDtp&_nc_ht=scontent.fblq5-1.fna&oh=00_AT-p1igoWsHksd8UMIi3XMFdMf-ypkVrnkp21oLI4BQZkw&oe=61E2169C',\n",
       " 'https://scontent.fblq5-2.fna.fbcdn.net/v/t39.30808-6/s552x414/271179236_4602081159845064_3819116708053340711_n.jpg?_nc_cat=102&_nc_rgb565=1&ccb=1-5&_nc_sid=c4c01c&_nc_ohc=Nt0QVuqCDZsAX-GYdBI&_nc_ht=scontent.fblq5-2.fna&oh=00_AT-fXdQBoN71PllqoEaMZg38-IImtBkAwZ4vF3T7lcBQ3g&oe=61E2167D',\n",
       " 'https://scontent.fblq5-2.fna.fbcdn.net/v/t39.30808-6/s552x414/271132356_4602081346511712_8238847107070949590_n.jpg?_nc_cat=107&_nc_rgb565=1&ccb=1-5&_nc_sid=c4c01c&_nc_ohc=yElJngyqklUAX89_U30&_nc_ht=scontent.fblq5-2.fna&oh=00_AT-WViJCZCfADb6yRgPkPmlwpkPVY7XgdyCLfsVJQhISdQ&oe=61E3917D',\n",
       " 'https://scontent.fblq5-2.fna.fbcdn.net/v/t39.30808-6/s552x414/271172178_4602081633178350_5348554534433325239_n.jpg?_nc_cat=103&_nc_rgb565=1&ccb=1-5&_nc_sid=c4c01c&_nc_ohc=ZlV4YTsVfpUAX8bvu01&_nc_ht=scontent.fblq5-2.fna&oh=00_AT-LFqwJNecw-4cbISNM7FhxeI3ePgVb_68MYMgGH2MUdQ&oe=61E3B955',\n",
       " 'https://scontent.fblq5-2.fna.fbcdn.net/v/t39.30808-6/s552x414/271238433_4602081956511651_855793040433637233_n.jpg?_nc_cat=100&_nc_rgb565=1&ccb=1-5&_nc_sid=c4c01c&_nc_ohc=5HqUt2PrkxMAX9KyUzX&_nc_ht=scontent.fblq5-2.fna&oh=00_AT8QlVdaCNV5o2ejj-UNKPBUfyd3NBTDVfjw3oAqpRwjkA&oe=61E27786',\n",
       " 'https://scontent.fblq5-2.fna.fbcdn.net/v/t39.30808-6/s552x414/271153323_4602082199844960_8470395892634736349_n.jpg?_nc_cat=100&_nc_rgb565=1&ccb=1-5&_nc_sid=c4c01c&_nc_ohc=XwqtXmPV4M4AX_ZGxr2&_nc_ht=scontent.fblq5-2.fna&oh=00_AT-5shOYfvyvUbwaVjqeRNyqh_f1eMf2M-hjFJiq7XXgzw&oe=61E375A6',\n",
       " 'https://scontent.fblq5-2.fna.fbcdn.net/v/t39.30808-6/s552x414/271178182_4602082439844936_7274172060814466753_n.jpg?_nc_cat=103&_nc_rgb565=1&ccb=1-5&_nc_sid=c4c01c&_nc_ohc=ChGb83p_h6MAX_QhM-z&_nc_oc=AQl0JumHUD5zNLtvcU0Ey1PV4zJrN1qKeF3CfDbzYoXveisxHZaMyt5f76IId3udNP8&_nc_ht=scontent.fblq5-2.fna&oh=00_AT-byd3kWEw7kQNcuj-IF1zUqJui0d3n6sMf_C_vH9H_9g&oe=61E3716A',\n",
       " 'https://scontent.fblq5-1.fna.fbcdn.net/v/t39.30808-6/s552x414/271182694_4602082669844913_3287959183687915746_n.jpg?_nc_cat=110&_nc_rgb565=1&ccb=1-5&_nc_sid=c4c01c&_nc_ohc=J_0v4afOUL4AX9PEqhJ&_nc_ht=scontent.fblq5-1.fna&oh=00_AT_y5EIEe0d9P8mzP2rfpB8Ex-GZZ3WlR5mEal3hWS4mQQ&oe=61E2660A',\n",
       " 'https://scontent.fblq5-1.fna.fbcdn.net/v/t39.30808-6/s552x414/271160612_4602083009844879_6330995357813401146_n.jpg?_nc_cat=110&_nc_rgb565=1&ccb=1-5&_nc_sid=c4c01c&_nc_ohc=-4Foa7r1OTsAX8lvRKL&_nc_oc=AQmWJstL9L1BocuQQiLqDyZJ1y4nrRlUw57l2Mydpr8ZS1Mzu3hzQl9FoogvGLyVaus&_nc_ht=scontent.fblq5-1.fna&oh=00_AT8haZ1_k62owRy7g7x50cZm2Ai8IOEVAw7iFbVVMhGr0A&oe=61E2B360']"
      ]
     },
     "execution_count": 5,
     "metadata": {},
     "output_type": "execute_result"
    }
   ],
   "source": [
    "anchors"
   ]
  },
  {
   "cell_type": "code",
   "execution_count": 6,
   "metadata": {},
   "outputs": [
    {
     "name": "stderr",
     "output_type": "stream",
     "text": [
      "/Library/Frameworks/Python.framework/Versions/3.7/lib/python3.7/site-packages/ipykernel_launcher.py:4: DeprecationWarning: find_elements_by_* commands are deprecated. Please use find_elements() instead\n",
      "  after removing the cwd from sys.path.\n"
     ]
    },
    {
     "name": "stdout",
     "output_type": "stream",
     "text": [
      "https://scontent.fblq5-2.fna.fbcdn.net/v/t1.6435-9/fb50/s320x320/122278314_3322652541121272_430177183458909885_n.jpg?_nc_cat=105&ccb=1-5&_nc_sid=e3f864&_nc_ohc=-n8horiCBa8AX9g79X4&_nc_ht=scontent.fblq5-2.fna&oh=00_AT_uO1cccb1uOCn-v61s-iaho8H9-71V4y2OvDiQJ7AM3g&oe=62044567\n",
      "https://scontent.fblq5-2.fna.fbcdn.net/v/t1.6435-9/122278314_3322652541121272_430177183458909885_n.jpg?_nc_cat=105&ccb=1-5&_nc_sid=e3f864&_nc_ohc=-n8horiCBa8AX9g79X4&_nc_ht=scontent.fblq5-2.fna&oh=00_AT-9BJ-5Mfb3u6CmbudFwhremEtkQwDRo-TeB0F-MlJ_eQ&oe=62029BF8\n",
      "https://scontent.fblq5-2.fna.fbcdn.net/v/t39.30808-6/s552x414/271134931_4602079669845213_5098013560447411351_n.jpg?_nc_cat=105&_nc_rgb565=1&ccb=1-5&_nc_sid=c4c01c&_nc_ohc=60R4FMrm9dgAX-ejkL4&_nc_ht=scontent.fblq5-2.fna&oh=00_AT_CBq6SHMKIsunu3o92uOj-GyQrd9qD_A1hqgMyuutuEA&oe=61E200FD\n",
      "https://scontent.fblq5-1.fna.fbcdn.net/v/t39.30808-6/s552x414/271243812_4602080426511804_1700218833575361136_n.jpg?_nc_cat=110&_nc_rgb565=1&ccb=1-5&_nc_sid=c4c01c&_nc_ohc=qrVJr3Nr3RwAX9DakWy&_nc_ht=scontent.fblq5-1.fna&oh=00_AT8uaMaV1L1UzD2DUUfQnQlhMVuFi8ebNH7HX1udMNzOOQ&oe=61E232C9\n",
      "https://scontent.fblq5-2.fna.fbcdn.net/v/t39.30808-6/s552x414/271158810_4602080629845117_2075798751486370233_n.jpg?_nc_cat=107&_nc_rgb565=1&ccb=1-5&_nc_sid=c4c01c&_nc_ohc=braaoiXK55wAX9FO20O&_nc_ht=scontent.fblq5-2.fna&oh=00_AT-LkFug86_lTMfhigDtnr0MDNLJegCdEO1Qfdrs_5mjfQ&oe=61E23B9C\n",
      "https://scontent.fblq5-1.fna.fbcdn.net/v/t39.30808-6/s552x414/271164087_4602080879845092_796280397132889504_n.jpg?_nc_cat=104&_nc_rgb565=1&ccb=1-5&_nc_sid=c4c01c&_nc_ohc=MfUrevOOqMcAX9mNDtp&_nc_ht=scontent.fblq5-1.fna&oh=00_AT-p1igoWsHksd8UMIi3XMFdMf-ypkVrnkp21oLI4BQZkw&oe=61E2169C\n",
      "https://scontent.fblq5-2.fna.fbcdn.net/v/t39.30808-6/s552x414/271179236_4602081159845064_3819116708053340711_n.jpg?_nc_cat=102&_nc_rgb565=1&ccb=1-5&_nc_sid=c4c01c&_nc_ohc=Nt0QVuqCDZsAX-GYdBI&_nc_ht=scontent.fblq5-2.fna&oh=00_AT-fXdQBoN71PllqoEaMZg38-IImtBkAwZ4vF3T7lcBQ3g&oe=61E2167D\n",
      "https://scontent.fblq5-2.fna.fbcdn.net/v/t39.30808-6/s552x414/271132356_4602081346511712_8238847107070949590_n.jpg?_nc_cat=107&_nc_rgb565=1&ccb=1-5&_nc_sid=c4c01c&_nc_ohc=yElJngyqklUAX89_U30&_nc_ht=scontent.fblq5-2.fna&oh=00_AT-WViJCZCfADb6yRgPkPmlwpkPVY7XgdyCLfsVJQhISdQ&oe=61E3917D\n",
      "https://scontent.fblq5-2.fna.fbcdn.net/v/t39.30808-6/s552x414/271172178_4602081633178350_5348554534433325239_n.jpg?_nc_cat=103&_nc_rgb565=1&ccb=1-5&_nc_sid=c4c01c&_nc_ohc=ZlV4YTsVfpUAX8bvu01&_nc_ht=scontent.fblq5-2.fna&oh=00_AT-LFqwJNecw-4cbISNM7FhxeI3ePgVb_68MYMgGH2MUdQ&oe=61E3B955\n",
      "https://scontent.fblq5-2.fna.fbcdn.net/v/t39.30808-6/s552x414/271238433_4602081956511651_855793040433637233_n.jpg?_nc_cat=100&_nc_rgb565=1&ccb=1-5&_nc_sid=c4c01c&_nc_ohc=5HqUt2PrkxMAX9KyUzX&_nc_ht=scontent.fblq5-2.fna&oh=00_AT8QlVdaCNV5o2ejj-UNKPBUfyd3NBTDVfjw3oAqpRwjkA&oe=61E27786\n",
      "https://scontent.fblq5-2.fna.fbcdn.net/v/t39.30808-6/s552x414/271153323_4602082199844960_8470395892634736349_n.jpg?_nc_cat=100&_nc_rgb565=1&ccb=1-5&_nc_sid=c4c01c&_nc_ohc=XwqtXmPV4M4AX_ZGxr2&_nc_ht=scontent.fblq5-2.fna&oh=00_AT-5shOYfvyvUbwaVjqeRNyqh_f1eMf2M-hjFJiq7XXgzw&oe=61E375A6\n",
      "https://scontent.fblq5-2.fna.fbcdn.net/v/t39.30808-6/s552x414/271178182_4602082439844936_7274172060814466753_n.jpg?_nc_cat=103&_nc_rgb565=1&ccb=1-5&_nc_sid=c4c01c&_nc_ohc=ChGb83p_h6MAX_QhM-z&_nc_oc=AQl0JumHUD5zNLtvcU0Ey1PV4zJrN1qKeF3CfDbzYoXveisxHZaMyt5f76IId3udNP8&_nc_ht=scontent.fblq5-2.fna&oh=00_AT-byd3kWEw7kQNcuj-IF1zUqJui0d3n6sMf_C_vH9H_9g&oe=61E3716A\n",
      "https://scontent.fblq5-1.fna.fbcdn.net/v/t39.30808-6/s552x414/271182694_4602082669844913_3287959183687915746_n.jpg?_nc_cat=110&_nc_rgb565=1&ccb=1-5&_nc_sid=c4c01c&_nc_ohc=J_0v4afOUL4AX9PEqhJ&_nc_ht=scontent.fblq5-1.fna&oh=00_AT_y5EIEe0d9P8mzP2rfpB8Ex-GZZ3WlR5mEal3hWS4mQQ&oe=61E2660A\n",
      "https://scontent.fblq5-1.fna.fbcdn.net/v/t39.30808-6/s552x414/271160612_4602083009844879_6330995357813401146_n.jpg?_nc_cat=110&_nc_rgb565=1&ccb=1-5&_nc_sid=c4c01c&_nc_ohc=-4Foa7r1OTsAX8lvRKL&_nc_oc=AQmWJstL9L1BocuQQiLqDyZJ1y4nrRlUw57l2Mydpr8ZS1Mzu3hzQl9FoogvGLyVaus&_nc_ht=scontent.fblq5-1.fna&oh=00_AT8haZ1_k62owRy7g7x50cZm2Ai8IOEVAw7iFbVVMhGr0A&oe=61E2B360\n"
     ]
    }
   ],
   "source": [
    "        for a in anchors:\n",
    "            driver.get(a)\n",
    "            time.sleep(5)\n",
    "            img = driver.find_elements_by_tag_name(\"img\")\n",
    "            for k in img:\n",
    "                print(k.get_attribute(\"src\"))"
   ]
  },
  {
   "cell_type": "code",
   "execution_count": 7,
   "metadata": {},
   "outputs": [
    {
     "data": {
      "text/plain": [
       "'/Users/matteozoli/Desktop/SCRAPING/scrapedphotosristorante'"
      ]
     },
     "execution_count": 7,
     "metadata": {},
     "output_type": "execute_result"
    }
   ],
   "source": [
    "path = os.getcwd()\n",
    "path = os.path.join(path, \"scrapedphotosristorante\")\n",
    "\n",
    "os.mkdir(path)\n",
    "\n",
    "path"
   ]
  },
  {
   "cell_type": "code",
   "execution_count": 9,
   "metadata": {},
   "outputs": [],
   "source": [
    "import ssl\n",
    "ssl._create_default_https_context = ssl._create_unverified_context\n",
    "import time"
   ]
  },
  {
   "cell_type": "code",
   "execution_count": 10,
   "metadata": {},
   "outputs": [
    {
     "name": "stdout",
     "output_type": "stream",
     "text": [
      "100% [............................................................] 6454 / 6454"
     ]
    }
   ],
   "source": [
    "counter = 0\n",
    "for image in anchors:\n",
    "    save_as = os.path.join(path + \"/\" + str(counter) + '.jpeg')\n",
    "    wget.download(image, save_as)\n",
    "    counter += 1"
   ]
  },
  {
   "cell_type": "code",
   "execution_count": 11,
   "metadata": {},
   "outputs": [],
   "source": [
    "driver.get(\"https://www.facebook.com/ristoranteOrsoGrigio/?ref=page_internal\")"
   ]
  },
  {
   "cell_type": "code",
   "execution_count": 32,
   "metadata": {},
   "outputs": [
    {
     "name": "stderr",
     "output_type": "stream",
     "text": [
      "/Library/Frameworks/Python.framework/Versions/3.7/lib/python3.7/site-packages/ipykernel_launcher.py:3: DeprecationWarning: find_elements_by_* commands are deprecated. Please use find_elements() instead\n",
      "  This is separate from the ipykernel package so we can avoid doing imports until\n"
     ]
    },
    {
     "data": {
      "text/plain": [
       "[]"
      ]
     },
     "execution_count": 32,
     "metadata": {},
     "output_type": "execute_result"
    }
   ],
   "source": [
    "info = []\n",
    "info_true = []\n",
    "info = driver.find_elements_by_tag_name('a')\n",
    "info = [i.get_attribute('href') for i in info]\n",
    "\n",
    "info"
   ]
  },
  {
   "cell_type": "code",
   "execution_count": 20,
   "metadata": {},
   "outputs": [
    {
     "data": {
      "text/plain": [
       "<selenium.webdriver.remote.webelement.WebElement (session=\"7bf41c51933f4ad5ece848d44e0dc5ad\", element=\"44bb9353-d45e-40f3-bdfc-42c807807e79\")>"
      ]
     },
     "execution_count": 20,
     "metadata": {},
     "output_type": "execute_result"
    }
   ],
   "source": [
    "info"
   ]
  },
  {
   "cell_type": "code",
   "execution_count": 13,
   "metadata": {},
   "outputs": [
    {
     "data": {
      "text/plain": [
       "['mailto:info@orsogrigio.it']"
      ]
     },
     "execution_count": 13,
     "metadata": {},
     "output_type": "execute_result"
    }
   ],
   "source": [
    "res = []\n",
    "for val in info:\n",
    "    if val != None :\n",
    "        res.append(val)\n",
    "res_2 = [elem for elem in res if \"mailto\" in elem]\n",
    "res_2"
   ]
  },
  {
   "cell_type": "code",
   "execution_count": 14,
   "metadata": {},
   "outputs": [
    {
     "data": {
      "text/plain": [
       "['info@orsogrigio.it']"
      ]
     },
     "execution_count": 14,
     "metadata": {},
     "output_type": "execute_result"
    }
   ],
   "source": [
    "def_lis = []\n",
    "for i in res_2:\n",
    "    new_string = i.replace(\"mailto:\", \"\")\n",
    "    def_lis.append(new_string)\n",
    "def_lis"
   ]
  },
  {
   "cell_type": "code",
   "execution_count": 15,
   "metadata": {},
   "outputs": [],
   "source": [
    "textfile = open(\"info.txt\", \"w\")\n",
    "for element in def_lis:\n",
    "    textfile.write(element + \"\\n\")\n",
    "textfile.close()"
   ]
  }
 ],
 "metadata": {
  "kernelspec": {
   "display_name": "Python 3 (ipykernel)",
   "language": "python",
   "name": "python3"
  },
  "language_info": {
   "codemirror_mode": {
    "name": "ipython",
    "version": 3
   },
   "file_extension": ".py",
   "mimetype": "text/x-python",
   "name": "python",
   "nbconvert_exporter": "python",
   "pygments_lexer": "ipython3",
   "version": "3.7.7"
  }
 },
 "nbformat": 4,
 "nbformat_minor": 2
}
